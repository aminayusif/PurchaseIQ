{
  "nbformat": 4,
  "nbformat_minor": 0,
  "metadata": {
    "colab": {
      "provenance": [],
      "toc_visible": true,
      "authorship_tag": "ABX9TyO1oGhPPFYPjvllzAd6jiXE",
      "include_colab_link": true
    },
    "kernelspec": {
      "name": "python3",
      "display_name": "Python 3"
    },
    "language_info": {
      "name": "python"
    }
  },
  "cells": [
    {
      "cell_type": "markdown",
      "metadata": {
        "id": "view-in-github",
        "colab_type": "text"
      },
      "source": [
        "<a href=\"https://colab.research.google.com/github/aminayusif/PurchaseIQ/blob/main/PurchaseIQ_CustomerSegmentation_Using_K_Means_Clustering.ipynb\" target=\"_parent\"><img src=\"https://colab.research.google.com/assets/colab-badge.svg\" alt=\"Open In Colab\"/></a>"
      ]
    },
    {
      "cell_type": "markdown",
      "source": [
        "### Introduction"
      ],
      "metadata": {
        "id": "F9mBsR5dIBFD"
      }
    },
    {
      "cell_type": "markdown",
      "source": [
        "This notebook performs customer segmentation using K-Means clustering on e-commerce consumer behavior data. It includes steps for data loading, exploration, preprocessing, clustering, cluster analysis, and anomaly detection using Isolation Forest. The goal is to identify distinct customer segments and unusual purchasing patterns to inform targeted marketing strategies.\n",
        "\n",
        "Key Sections:\n",
        "\n",
        "Data Loading and Exploration\n",
        "\n",
        "Data Preprocessing\n",
        "\n",
        "Customer Segmentation (K-Means Clustering)\n",
        "\n",
        "Cluster Analysis and Interpretation\n",
        "\n",
        "Anomaly Detection (Isolation Forest)\n",
        "\n",
        "Marketing Recommendations based on Segments and Anomalies"
      ],
      "metadata": {
        "id": "Cm_H17HUIbN3"
      }
    }
  ]
}